{
 "cells": [
  {
   "cell_type": "code",
   "execution_count": 6,
   "id": "18872399-01a4-4abd-b631-683bf62dc7c9",
   "metadata": {},
   "outputs": [
    {
     "name": "stdout",
     "output_type": "stream",
     "text": [
      "Predictions on unseen data: [0]\n"
     ]
    }
   ],
   "source": [
    "import pickle\n",
    "import pandas as pd\n",
    "\n",
    "# Loading the tuned multiple-logistic regression model\n",
    "with open('logistic_regression_model.pkl', 'rb') as model_file:\n",
    "    loaded_model = pickle.load(model_file)\n",
    "\n",
    "# Loading the scaler\n",
    "with open('scaler.pkl', 'rb') as scaler_file:\n",
    "    scaler = pickle.load(scaler_file)\n",
    "\n",
    "# Creating unseen data as a DataFrame\n",
    "unseen_data = pd.DataFrame({\n",
    "    'Temperature': [30],\n",
    "    'RH': [50],\n",
    "    'Ws': [18],\n",
    "    'FFMC': [40],\n",
    "    'DMC': [10],\n",
    "    'DC': [10],\n",
    "    'ISI': [8],\n",
    "    'BUI': [4],\n",
    "    'FWI': [10]\n",
    "})\n",
    "\n",
    "# Scaling the unseen data using the loaded scaler\n",
    "unseen_data_scaled = scaler.transform(unseen_data)\n",
    "\n",
    "# Predicting using the loaded model\n",
    "unseen_predictions = loaded_model.predict(unseen_data_scaled)\n",
    "\n",
    "# Display the predictions\n",
    "print(\"Predictions on unseen data:\", unseen_predictions)\n"
   ]
  },
  {
   "cell_type": "markdown",
   "id": "57a84b9b-5f79-4fc5-8346-dff613f678b2",
   "metadata": {},
   "source": [
    "- After tesing the model with unseen data, it predicts the class to be 0 which is 'not fire'.Thus, it performs well on unseen data\n"
   ]
  }
 ],
 "metadata": {
  "kernelspec": {
   "display_name": "Python 3 (ipykernel)",
   "language": "python",
   "name": "python3"
  },
  "language_info": {
   "codemirror_mode": {
    "name": "ipython",
    "version": 3
   },
   "file_extension": ".py",
   "mimetype": "text/x-python",
   "name": "python",
   "nbconvert_exporter": "python",
   "pygments_lexer": "ipython3",
   "version": "3.12.3"
  }
 },
 "nbformat": 4,
 "nbformat_minor": 5
}
